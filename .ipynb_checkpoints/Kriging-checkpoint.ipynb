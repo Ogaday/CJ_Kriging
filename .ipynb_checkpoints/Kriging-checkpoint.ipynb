{
 "cells": [
  {
   "cell_type": "markdown",
   "metadata": {},
   "source": [
    "# Kriging in Python According to Conor Johnson\n",
    "\n",
    "See source on [blog](http://connor-johnson.com/2014/03/20/simple-kriging-in-python/) and [git](https://github.com/cjohnson318/geostatsmodels). This Notebook was written in Python 2.7 and is a v4 Notebook.\n",
    "\n",
    "## Fundamentals: What is Kriging?\n",
    "\n",
    "As far as I can understand Kriging a form of Baysian Process that takes into account spatial factors. That is, it is an inference technique closely related to bayseian inference/regression, where a model is chosen with a specified uncertainty."
   ]
  },
  {
   "cell_type": "code",
   "execution_count": null,
   "metadata": {
    "collapsed": true
   },
   "outputs": [],
   "source": []
  }
 ],
 "metadata": {
  "kernelspec": {
   "display_name": "Python 2",
   "language": "python",
   "name": "python2"
  },
  "language_info": {
   "codemirror_mode": {
    "name": "ipython",
    "version": 2
   },
   "file_extension": ".py",
   "mimetype": "text/x-python",
   "name": "python",
   "nbconvert_exporter": "python",
   "pygments_lexer": "ipython2",
   "version": "2.7.10"
  }
 },
 "nbformat": 4,
 "nbformat_minor": 0
}
